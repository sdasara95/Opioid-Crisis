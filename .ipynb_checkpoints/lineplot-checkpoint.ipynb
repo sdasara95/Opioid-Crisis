{
 "cells": [
  {
   "cell_type": "code",
   "execution_count": 1,
   "metadata": {},
   "outputs": [],
   "source": [
    "import altair as alt\n",
    "\n",
    "# saving data into a file rather than embedding into the chart\n",
    "# alt.data_transformers.enable('json') \n",
    "# alt.data_transformers.enable('data_server')\n",
    "alt.data_transformers.enable('default',max_rows=50000)\n",
    "alt.renderers.enable('notebook',embed_options={'renderer': 'svg'})\n",
    "# alt.renderers.enable('jupyterlab')\n",
    "from vega_datasets import data\n",
    "import pandas as pd\n",
    "from altair import Scale,Color"
   ]
  },
  {
   "cell_type": "code",
   "execution_count": 8,
   "metadata": {},
   "outputs": [],
   "source": [
    "file = 'regions.csv'\n",
    "regions = pd.read_csv(file,header=0)"
   ]
  },
  {
   "cell_type": "code",
   "execution_count": 20,
   "metadata": {},
   "outputs": [],
   "source": [
    "file = 'annual_county_level.csv'\n",
    "dforg = pd.read_csv(file,header=0)\n",
    "dforg = dforg.drop(['Unnamed: 0'],axis=1)"
   ]
  },
  {
   "cell_type": "code",
   "execution_count": 23,
   "metadata": {},
   "outputs": [],
   "source": [
    "fdf = pd.merge(dforg,regions,on='fips',how='left')"
   ]
  },
  {
   "cell_type": "code",
   "execution_count": 24,
   "metadata": {},
   "outputs": [
    {
     "data": {
      "text/plain": [
       "True"
      ]
     },
     "execution_count": 24,
     "metadata": {},
     "output_type": "execute_result"
    }
   ],
   "source": [
    "len(fdf)==len(dforg)"
   ]
  },
  {
   "cell_type": "code",
   "execution_count": 25,
   "metadata": {},
   "outputs": [],
   "source": [
    "fdf1 = fdf.copy()"
   ]
  },
  {
   "cell_type": "code",
   "execution_count": 26,
   "metadata": {},
   "outputs": [
    {
     "data": {
      "text/plain": [
       "Index(['state', 'fips', 'year', 'BUYER_COUNTY', 'pills', 'population',\n",
       "       'Pill_per_pop', 'Census Region', 'Census Division', 'State', 'County'],\n",
       "      dtype='object')"
      ]
     },
     "execution_count": 26,
     "metadata": {},
     "output_type": "execute_result"
    }
   ],
   "source": [
    "fdf1.columns"
   ]
  },
  {
   "cell_type": "code",
   "execution_count": 38,
   "metadata": {},
   "outputs": [
    {
     "name": "stdout",
     "output_type": "stream",
     "text": [
      "Index(['fips', 'pills', 'population', 'Pill_per_pop'], dtype='object')\n"
     ]
    },
    {
     "data": {
      "text/html": [
       "<div>\n",
       "<style scoped>\n",
       "    .dataframe tbody tr th:only-of-type {\n",
       "        vertical-align: middle;\n",
       "    }\n",
       "\n",
       "    .dataframe tbody tr th {\n",
       "        vertical-align: top;\n",
       "    }\n",
       "\n",
       "    .dataframe thead th {\n",
       "        text-align: right;\n",
       "    }\n",
       "</style>\n",
       "<table border=\"1\" class=\"dataframe\">\n",
       "  <thead>\n",
       "    <tr style=\"text-align: right;\">\n",
       "      <th></th>\n",
       "      <th></th>\n",
       "      <th>fips</th>\n",
       "      <th>pills</th>\n",
       "      <th>population</th>\n",
       "      <th>Pill_per_pop</th>\n",
       "    </tr>\n",
       "    <tr>\n",
       "      <th>year</th>\n",
       "      <th>Census Region</th>\n",
       "      <th></th>\n",
       "      <th></th>\n",
       "      <th></th>\n",
       "      <th></th>\n",
       "    </tr>\n",
       "  </thead>\n",
       "  <tbody>\n",
       "    <tr>\n",
       "      <td rowspan=\"4\" valign=\"top\">2006</td>\n",
       "      <td>Midwest</td>\n",
       "      <td>28653.079920</td>\n",
       "      <td>1.684714e+06</td>\n",
       "      <td>65803.643357</td>\n",
       "      <td>23.418354</td>\n",
       "    </tr>\n",
       "    <tr>\n",
       "      <td>Northeast</td>\n",
       "      <td>35988.990783</td>\n",
       "      <td>5.608463e+06</td>\n",
       "      <td>251256.493088</td>\n",
       "      <td>24.779349</td>\n",
       "    </tr>\n",
       "    <tr>\n",
       "      <td>South</td>\n",
       "      <td>31785.736383</td>\n",
       "      <td>2.540998e+06</td>\n",
       "      <td>79063.499637</td>\n",
       "      <td>33.651773</td>\n",
       "    </tr>\n",
       "    <tr>\n",
       "      <td>West</td>\n",
       "      <td>25892.946472</td>\n",
       "      <td>4.801408e+06</td>\n",
       "      <td>167044.895377</td>\n",
       "      <td>29.769346</td>\n",
       "    </tr>\n",
       "    <tr>\n",
       "      <td>2007</td>\n",
       "      <td>Midwest</td>\n",
       "      <td>28656.257485</td>\n",
       "      <td>1.929847e+06</td>\n",
       "      <td>65999.206587</td>\n",
       "      <td>26.735166</td>\n",
       "    </tr>\n",
       "  </tbody>\n",
       "</table>\n",
       "</div>"
      ],
      "text/plain": [
       "                            fips         pills     population  Pill_per_pop\n",
       "year Census Region                                                         \n",
       "2006 Midwest        28653.079920  1.684714e+06   65803.643357     23.418354\n",
       "     Northeast      35988.990783  5.608463e+06  251256.493088     24.779349\n",
       "     South          31785.736383  2.540998e+06   79063.499637     33.651773\n",
       "     West           25892.946472  4.801408e+06  167044.895377     29.769346\n",
       "2007 Midwest        28656.257485  1.929847e+06   65999.206587     26.735166"
      ]
     },
     "execution_count": 38,
     "metadata": {},
     "output_type": "execute_result"
    }
   ],
   "source": [
    "data = fdf1.groupby(['year','Census Region']).mean()\n",
    "print(data.columns)\n",
    "data.head()"
   ]
  },
  {
   "cell_type": "code",
   "execution_count": 39,
   "metadata": {},
   "outputs": [],
   "source": [
    "data=data.reset_index()"
   ]
  },
  {
   "cell_type": "code",
   "execution_count": 41,
   "metadata": {},
   "outputs": [
    {
     "data": {
      "application/javascript": [
       "const spec = {\"config\": {\"view\": {\"width\": 400, \"height\": 300}, \"mark\": {\"tooltip\": null}}, \"data\": {\"name\": \"data-de8c1a160a1986df9567c03b6d8e3c3a\"}, \"mark\": \"line\", \"encoding\": {\"color\": {\"type\": \"nominal\", \"field\": \"Census Region\"}, \"x\": {\"type\": \"quantitative\", \"field\": \"year\"}, \"y\": {\"type\": \"quantitative\", \"field\": \"Pill_per_pop\"}}, \"selection\": {\"selector003\": {\"type\": \"interval\", \"bind\": \"scales\", \"encodings\": [\"x\", \"y\"]}}, \"$schema\": \"https://vega.github.io/schema/vega-lite/v3.4.0.json\", \"datasets\": {\"data-de8c1a160a1986df9567c03b6d8e3c3a\": [{\"year\": 2006, \"Census Region\": \"Midwest\", \"fips\": 28653.07992007992, \"pills\": 1684713.7905404593, \"population\": 65803.64335664336, \"Pill_per_pop\": 23.418354381996267}, {\"year\": 2006, \"Census Region\": \"Northeast\", \"fips\": 35988.99078341014, \"pills\": 5608462.730414746, \"population\": 251256.4930875576, \"Pill_per_pop\": 24.779348861480653}, {\"year\": 2006, \"Census Region\": \"South\", \"fips\": 31785.736383442265, \"pills\": 2540998.1715830793, \"population\": 79063.4996368918, \"Pill_per_pop\": 33.6517726329789}, {\"year\": 2006, \"Census Region\": \"West\", \"fips\": 25892.946472019466, \"pills\": 4801408.263990267, \"population\": 167044.89537712897, \"Pill_per_pop\": 29.769346021253956}, {\"year\": 2007, \"Census Region\": \"Midwest\", \"fips\": 28656.25748502994, \"pills\": 1929847.2195608784, \"population\": 65999.20658682635, \"Pill_per_pop\": 26.735166293846447}, {\"year\": 2007, \"Census Region\": \"Northeast\", \"fips\": 35988.99078341014, \"pills\": 6410162.33640553, \"population\": 251858.81105990784, \"Pill_per_pop\": 28.04462568542765}, {\"year\": 2007, \"Census Region\": \"South\", \"fips\": 31788.780043699928, \"pills\": 2872946.8568827384, \"population\": 80455.40203932993, \"Pill_per_pop\": 37.96250180530423}, {\"year\": 2007, \"Census Region\": \"West\", \"fips\": 26102.228501228503, \"pills\": 5360656.121621622, \"population\": 170710.87714987714, \"Pill_per_pop\": 32.67159916714382}, {\"year\": 2008, \"Census Region\": \"Midwest\", \"fips\": 28681.71928071928, \"pills\": 2119137.588411588, \"population\": 66293.98801198801, \"Pill_per_pop\": 29.372348256565356}, {\"year\": 2008, \"Census Region\": \"Northeast\", \"fips\": 35988.99078341014, \"pills\": 6955078.638248848, \"population\": 252884.4516129032, \"Pill_per_pop\": 30.39449810793723}, {\"year\": 2008, \"Census Region\": \"South\", \"fips\": 31740.924032140247, \"pills\": 3114764.8281409787, \"population\": 81768.37472607743, \"Pill_per_pop\": 41.45481410021836}, {\"year\": 2008, \"Census Region\": \"West\", \"fips\": 26262.486419753088, \"pills\": 5788670.559012346, \"population\": 173808.15061728394, \"Pill_per_pop\": 35.30082869486162}, {\"year\": 2009, \"Census Region\": \"Midwest\", \"fips\": 28691.436, \"pills\": 2286490.3105, \"population\": 66167.552, \"Pill_per_pop\": 31.944406282283598}, {\"year\": 2009, \"Census Region\": \"Northeast\", \"fips\": 35988.99078341014, \"pills\": 7381928.269214747, \"population\": 253024.41013824884, \"Pill_per_pop\": 32.59521642252776}, {\"year\": 2009, \"Census Region\": \"South\", \"fips\": 31784.011678832117, \"pills\": 3460743.331936715, \"population\": 80449.06788321168, \"Pill_per_pop\": 46.01362761831332}, {\"year\": 2009, \"Census Region\": \"West\", \"fips\": 26213.13300492611, \"pills\": 6156119.306034483, \"population\": 171576.8472906404, \"Pill_per_pop\": 38.48597661461025}, {\"year\": 2010, \"Census Region\": \"Midwest\", \"fips\": 28702.023023023023, \"pills\": 2483046.782782783, \"population\": 66405.72372372373, \"Pill_per_pop\": 33.926134987671674}, {\"year\": 2010, \"Census Region\": \"Northeast\", \"fips\": 35988.99078341014, \"pills\": 7741370.832082028, \"population\": 253037.87096774194, \"Pill_per_pop\": 33.99904933664198}, {\"year\": 2010, \"Census Region\": \"South\", \"fips\": 31795.021881838074, \"pills\": 3747221.6127479943, \"population\": 81577.43617797228, \"Pill_per_pop\": 49.00676687315678}, {\"year\": 2010, \"Census Region\": \"West\", \"fips\": 26146.65024630542, \"pills\": 6486280.01182266, \"population\": 173290.54433497536, \"Pill_per_pop\": 40.76641455490377}, {\"year\": 2011, \"Census Region\": \"Midwest\", \"fips\": 28691.69591226321, \"pills\": 2705841.1266201395, \"population\": 66387.22632103688, \"Pill_per_pop\": 37.50681397938483}, {\"year\": 2011, \"Census Region\": \"Northeast\", \"fips\": 35988.99078341014, \"pills\": 8273711.734165899, \"population\": 253963.23041474653, \"Pill_per_pop\": 36.20003401580318}, {\"year\": 2011, \"Census Region\": \"South\", \"fips\": 31786.522561863174, \"pills\": 3938843.2917438145, \"population\": 82422.78675400291, \"Pill_per_pop\": 52.97659276451626}, {\"year\": 2011, \"Census Region\": \"West\", \"fips\": 26239.89408866995, \"pills\": 6991174.068916257, \"population\": 175319.24384236452, \"Pill_per_pop\": 43.483048289032865}, {\"year\": 2012, \"Census Region\": \"Midwest\", \"fips\": 28683.65472636816, \"pills\": 2761684.7308457713, \"population\": 66460.58109452737, \"Pill_per_pop\": 38.82897837076494}, {\"year\": 2012, \"Census Region\": \"Northeast\", \"fips\": 35988.99078341014, \"pills\": 8134266.359447004, \"population\": 255064.2258064516, \"Pill_per_pop\": 36.18890423542165}, {\"year\": 2012, \"Census Region\": \"South\", \"fips\": 31821.64, \"pills\": 3818195.5603636364, \"population\": 83315.10981818182, \"Pill_per_pop\": 53.25350590766774}, {\"year\": 2012, \"Census Region\": \"West\", \"fips\": 26189.892156862745, \"pills\": 7004608.302696078, \"population\": 176397.0588235294, \"Pill_per_pop\": 43.87756466026433}]}};\n",
       "const opt = {\"renderer\": \"svg\"};\n",
       "const type = \"vega-lite\";\n",
       "const id = \"da1795e0-1acf-4cf8-9f08-2a7479c27aa4\";\n",
       "\n",
       "const output_area = this;\n",
       "\n",
       "require([\"nbextensions/jupyter-vega/index\"], function(vega) {\n",
       "  const target = document.createElement(\"div\");\n",
       "  target.id = id;\n",
       "  target.className = \"vega-embed\";\n",
       "\n",
       "  const style = document.createElement(\"style\");\n",
       "  style.textContent = [\n",
       "    \".vega-embed .error p {\",\n",
       "    \"  color: firebrick;\",\n",
       "    \"  font-size: 14px;\",\n",
       "    \"}\",\n",
       "  ].join(\"\\\\n\");\n",
       "\n",
       "  // element is a jQuery wrapped DOM element inside the output area\n",
       "  // see http://ipython.readthedocs.io/en/stable/api/generated/\\\n",
       "  // IPython.display.html#IPython.display.Javascript.__init__\n",
       "  element[0].appendChild(target);\n",
       "  element[0].appendChild(style);\n",
       "\n",
       "  vega.render(\"#\" + id, spec, type, opt, output_area);\n",
       "}, function (err) {\n",
       "  if (err.requireType !== \"scripterror\") {\n",
       "    throw(err);\n",
       "  }\n",
       "});\n"
      ],
      "text/plain": [
       "<vega.vegalite.VegaLite at 0x2120ff1b7c8>"
      ]
     },
     "metadata": {
      "jupyter-vega": "#da1795e0-1acf-4cf8-9f08-2a7479c27aa4"
     },
     "output_type": "display_data"
    },
    {
     "data": {
      "text/plain": []
     },
     "execution_count": 41,
     "metadata": {},
     "output_type": "execute_result"
    },
    {
     "data": {
      "image/png": "[encoded data removed]"
     },
     "metadata": {
      "jupyter-vega": "#da1795e0-1acf-4cf8-9f08-2a7479c27aa4"
     },
     "output_type": "display_data"
    }
   ],
   "source": [
    "alt.Chart(data).mark_line().encode(\n",
    "    x='year',\n",
    "    y='Pill_per_pop',\n",
    "    color='Census Region'\n",
    ").interactive()"
   ]
  },
  {
   "cell_type": "code",
   "execution_count": 51,
   "metadata": {},
   "outputs": [],
   "source": [
    "data1=data.copy()\n",
    "data1['year']=data1['year'].astype(str)"
   ]
  },
  {
   "cell_type": "code",
   "execution_count": 52,
   "metadata": {},
   "outputs": [
    {
     "data": {
      "application/javascript": [
       "const spec = {\"config\": {\"view\": {\"width\": 400, \"height\": 300}, \"mark\": {\"tooltip\": null}}, \"data\": {\"name\": \"data-bf926e92ecead2cd760004ba95fb799f\"}, \"mark\": {\"type\": \"bar\", \"opacity\": 0.5}, \"encoding\": {\"color\": {\"type\": \"nominal\", \"field\": \"Census Region\"}, \"x\": {\"type\": \"ordinal\", \"field\": \"year\"}, \"y\": {\"type\": \"quantitative\", \"field\": \"Pill_per_pop\", \"stack\": null}}, \"$schema\": \"https://vega.github.io/schema/vega-lite/v3.4.0.json\", \"datasets\": {\"data-bf926e92ecead2cd760004ba95fb799f\": [{\"year\": \"2006\", \"Census Region\": \"Midwest\", \"fips\": 28653.07992007992, \"pills\": 1684713.7905404593, \"population\": 65803.64335664336, \"Pill_per_pop\": 23.418354381996267}, {\"year\": \"2006\", \"Census Region\": \"Northeast\", \"fips\": 35988.99078341014, \"pills\": 5608462.730414746, \"population\": 251256.4930875576, \"Pill_per_pop\": 24.779348861480653}, {\"year\": \"2006\", \"Census Region\": \"South\", \"fips\": 31785.736383442265, \"pills\": 2540998.1715830793, \"population\": 79063.4996368918, \"Pill_per_pop\": 33.6517726329789}, {\"year\": \"2006\", \"Census Region\": \"West\", \"fips\": 25892.946472019466, \"pills\": 4801408.263990267, \"population\": 167044.89537712897, \"Pill_per_pop\": 29.769346021253956}, {\"year\": \"2007\", \"Census Region\": \"Midwest\", \"fips\": 28656.25748502994, \"pills\": 1929847.2195608784, \"population\": 65999.20658682635, \"Pill_per_pop\": 26.735166293846447}, {\"year\": \"2007\", \"Census Region\": \"Northeast\", \"fips\": 35988.99078341014, \"pills\": 6410162.33640553, \"population\": 251858.81105990784, \"Pill_per_pop\": 28.04462568542765}, {\"year\": \"2007\", \"Census Region\": \"South\", \"fips\": 31788.780043699928, \"pills\": 2872946.8568827384, \"population\": 80455.40203932993, \"Pill_per_pop\": 37.96250180530423}, {\"year\": \"2007\", \"Census Region\": \"West\", \"fips\": 26102.228501228503, \"pills\": 5360656.121621622, \"population\": 170710.87714987714, \"Pill_per_pop\": 32.67159916714382}, {\"year\": \"2008\", \"Census Region\": \"Midwest\", \"fips\": 28681.71928071928, \"pills\": 2119137.588411588, \"population\": 66293.98801198801, \"Pill_per_pop\": 29.372348256565356}, {\"year\": \"2008\", \"Census Region\": \"Northeast\", \"fips\": 35988.99078341014, \"pills\": 6955078.638248848, \"population\": 252884.4516129032, \"Pill_per_pop\": 30.39449810793723}, {\"year\": \"2008\", \"Census Region\": \"South\", \"fips\": 31740.924032140247, \"pills\": 3114764.8281409787, \"population\": 81768.37472607743, \"Pill_per_pop\": 41.45481410021836}, {\"year\": \"2008\", \"Census Region\": \"West\", \"fips\": 26262.486419753088, \"pills\": 5788670.559012346, \"population\": 173808.15061728394, \"Pill_per_pop\": 35.30082869486162}, {\"year\": \"2009\", \"Census Region\": \"Midwest\", \"fips\": 28691.436, \"pills\": 2286490.3105, \"population\": 66167.552, \"Pill_per_pop\": 31.944406282283598}, {\"year\": \"2009\", \"Census Region\": \"Northeast\", \"fips\": 35988.99078341014, \"pills\": 7381928.269214747, \"population\": 253024.41013824884, \"Pill_per_pop\": 32.59521642252776}, {\"year\": \"2009\", \"Census Region\": \"South\", \"fips\": 31784.011678832117, \"pills\": 3460743.331936715, \"population\": 80449.06788321168, \"Pill_per_pop\": 46.01362761831332}, {\"year\": \"2009\", \"Census Region\": \"West\", \"fips\": 26213.13300492611, \"pills\": 6156119.306034483, \"population\": 171576.8472906404, \"Pill_per_pop\": 38.48597661461025}, {\"year\": \"2010\", \"Census Region\": \"Midwest\", \"fips\": 28702.023023023023, \"pills\": 2483046.782782783, \"population\": 66405.72372372373, \"Pill_per_pop\": 33.926134987671674}, {\"year\": \"2010\", \"Census Region\": \"Northeast\", \"fips\": 35988.99078341014, \"pills\": 7741370.832082028, \"population\": 253037.87096774194, \"Pill_per_pop\": 33.99904933664198}, {\"year\": \"2010\", \"Census Region\": \"South\", \"fips\": 31795.021881838074, \"pills\": 3747221.6127479943, \"population\": 81577.43617797228, \"Pill_per_pop\": 49.00676687315678}, {\"year\": \"2010\", \"Census Region\": \"West\", \"fips\": 26146.65024630542, \"pills\": 6486280.01182266, \"population\": 173290.54433497536, \"Pill_per_pop\": 40.76641455490377}, {\"year\": \"2011\", \"Census Region\": \"Midwest\", \"fips\": 28691.69591226321, \"pills\": 2705841.1266201395, \"population\": 66387.22632103688, \"Pill_per_pop\": 37.50681397938483}, {\"year\": \"2011\", \"Census Region\": \"Northeast\", \"fips\": 35988.99078341014, \"pills\": 8273711.734165899, \"population\": 253963.23041474653, \"Pill_per_pop\": 36.20003401580318}, {\"year\": \"2011\", \"Census Region\": \"South\", \"fips\": 31786.522561863174, \"pills\": 3938843.2917438145, \"population\": 82422.78675400291, \"Pill_per_pop\": 52.97659276451626}, {\"year\": \"2011\", \"Census Region\": \"West\", \"fips\": 26239.89408866995, \"pills\": 6991174.068916257, \"population\": 175319.24384236452, \"Pill_per_pop\": 43.483048289032865}, {\"year\": \"2012\", \"Census Region\": \"Midwest\", \"fips\": 28683.65472636816, \"pills\": 2761684.7308457713, \"population\": 66460.58109452737, \"Pill_per_pop\": 38.82897837076494}, {\"year\": \"2012\", \"Census Region\": \"Northeast\", \"fips\": 35988.99078341014, \"pills\": 8134266.359447004, \"population\": 255064.2258064516, \"Pill_per_pop\": 36.18890423542165}, {\"year\": \"2012\", \"Census Region\": \"South\", \"fips\": 31821.64, \"pills\": 3818195.5603636364, \"population\": 83315.10981818182, \"Pill_per_pop\": 53.25350590766774}, {\"year\": \"2012\", \"Census Region\": \"West\", \"fips\": 26189.892156862745, \"pills\": 7004608.302696078, \"population\": 176397.0588235294, \"Pill_per_pop\": 43.87756466026433}]}};\n",
       "const opt = {\"renderer\": \"svg\"};\n",
       "const type = \"vega-lite\";\n",
       "const id = \"518f224f-5ece-414d-b2f6-1e65ff1a6806\";\n",
       "\n",
       "const output_area = this;\n",
       "\n",
       "require([\"nbextensions/jupyter-vega/index\"], function(vega) {\n",
       "  const target = document.createElement(\"div\");\n",
       "  target.id = id;\n",
       "  target.className = \"vega-embed\";\n",
       "\n",
       "  const style = document.createElement(\"style\");\n",
       "  style.textContent = [\n",
       "    \".vega-embed .error p {\",\n",
       "    \"  color: firebrick;\",\n",
       "    \"  font-size: 14px;\",\n",
       "    \"}\",\n",
       "  ].join(\"\\\\n\");\n",
       "\n",
       "  // element is a jQuery wrapped DOM element inside the output area\n",
       "  // see http://ipython.readthedocs.io/en/stable/api/generated/\\\n",
       "  // IPython.display.html#IPython.display.Javascript.__init__\n",
       "  element[0].appendChild(target);\n",
       "  element[0].appendChild(style);\n",
       "\n",
       "  vega.render(\"#\" + id, spec, type, opt, output_area);\n",
       "}, function (err) {\n",
       "  if (err.requireType !== \"scripterror\") {\n",
       "    throw(err);\n",
       "  }\n",
       "});\n"
      ],
      "text/plain": [
       "<vega.vegalite.VegaLite at 0x2120fe94988>"
      ]
     },
     "metadata": {
      "jupyter-vega": "#518f224f-5ece-414d-b2f6-1e65ff1a6806"
     },
     "output_type": "display_data"
    },
    {
     "data": {
      "text/plain": []
     },
     "execution_count": 52,
     "metadata": {},
     "output_type": "execute_result"
    },
    {
     "data": {
      "image/png": "[encoded data removed]"
     },
     "metadata": {
      "jupyter-vega": "#518f224f-5ece-414d-b2f6-1e65ff1a6806"
     },
     "output_type": "display_data"
    }
   ],
   "source": [
    "alt.Chart(data1).mark_bar(opacity=0.5).encode(\n",
    "    x='year:O',\n",
    "    y=alt.Y('Pill_per_pop:Q', stack=None),\n",
    "    color=\"Census Region\")"
   ]
  },
  {
   "cell_type": "code",
   "execution_count": 59,
   "metadata": {},
   "outputs": [
    {
     "data": {
      "text/html": [
       "<div>\n",
       "<style scoped>\n",
       "    .dataframe tbody tr th:only-of-type {\n",
       "        vertical-align: middle;\n",
       "    }\n",
       "\n",
       "    .dataframe tbody tr th {\n",
       "        vertical-align: top;\n",
       "    }\n",
       "\n",
       "    .dataframe thead th {\n",
       "        text-align: right;\n",
       "    }\n",
       "</style>\n",
       "<table border=\"1\" class=\"dataframe\">\n",
       "  <thead>\n",
       "    <tr style=\"text-align: right;\">\n",
       "      <th></th>\n",
       "      <th>year</th>\n",
       "      <th>Census Region</th>\n",
       "      <th>fips</th>\n",
       "      <th>pills</th>\n",
       "      <th>population</th>\n",
       "      <th>Pill_per_pop</th>\n",
       "    </tr>\n",
       "  </thead>\n",
       "  <tbody>\n",
       "    <tr>\n",
       "      <td>0</td>\n",
       "      <td>2006</td>\n",
       "      <td>Midwest</td>\n",
       "      <td>28653.079920</td>\n",
       "      <td>1.684714e+06</td>\n",
       "      <td>65803.643357</td>\n",
       "      <td>23.418354</td>\n",
       "    </tr>\n",
       "    <tr>\n",
       "      <td>4</td>\n",
       "      <td>2007</td>\n",
       "      <td>Midwest</td>\n",
       "      <td>28656.257485</td>\n",
       "      <td>1.929847e+06</td>\n",
       "      <td>65999.206587</td>\n",
       "      <td>26.735166</td>\n",
       "    </tr>\n",
       "    <tr>\n",
       "      <td>8</td>\n",
       "      <td>2008</td>\n",
       "      <td>Midwest</td>\n",
       "      <td>28681.719281</td>\n",
       "      <td>2.119138e+06</td>\n",
       "      <td>66293.988012</td>\n",
       "      <td>29.372348</td>\n",
       "    </tr>\n",
       "    <tr>\n",
       "      <td>12</td>\n",
       "      <td>2009</td>\n",
       "      <td>Midwest</td>\n",
       "      <td>28691.436000</td>\n",
       "      <td>2.286490e+06</td>\n",
       "      <td>66167.552000</td>\n",
       "      <td>31.944406</td>\n",
       "    </tr>\n",
       "    <tr>\n",
       "      <td>16</td>\n",
       "      <td>2010</td>\n",
       "      <td>Midwest</td>\n",
       "      <td>28702.023023</td>\n",
       "      <td>2.483047e+06</td>\n",
       "      <td>66405.723724</td>\n",
       "      <td>33.926135</td>\n",
       "    </tr>\n",
       "    <tr>\n",
       "      <td>20</td>\n",
       "      <td>2011</td>\n",
       "      <td>Midwest</td>\n",
       "      <td>28691.695912</td>\n",
       "      <td>2.705841e+06</td>\n",
       "      <td>66387.226321</td>\n",
       "      <td>37.506814</td>\n",
       "    </tr>\n",
       "    <tr>\n",
       "      <td>24</td>\n",
       "      <td>2012</td>\n",
       "      <td>Midwest</td>\n",
       "      <td>28683.654726</td>\n",
       "      <td>2.761685e+06</td>\n",
       "      <td>66460.581095</td>\n",
       "      <td>38.828978</td>\n",
       "    </tr>\n",
       "  </tbody>\n",
       "</table>\n",
       "</div>"
      ],
      "text/plain": [
       "    year Census Region          fips         pills    population  Pill_per_pop\n",
       "0   2006       Midwest  28653.079920  1.684714e+06  65803.643357     23.418354\n",
       "4   2007       Midwest  28656.257485  1.929847e+06  65999.206587     26.735166\n",
       "8   2008       Midwest  28681.719281  2.119138e+06  66293.988012     29.372348\n",
       "12  2009       Midwest  28691.436000  2.286490e+06  66167.552000     31.944406\n",
       "16  2010       Midwest  28702.023023  2.483047e+06  66405.723724     33.926135\n",
       "20  2011       Midwest  28691.695912  2.705841e+06  66387.226321     37.506814\n",
       "24  2012       Midwest  28683.654726  2.761685e+06  66460.581095     38.828978"
      ]
     },
     "execution_count": 59,
     "metadata": {},
     "output_type": "execute_result"
    }
   ],
   "source": [
    "data1[data1['Census Region']=='Midwest']"
   ]
  },
  {
   "cell_type": "code",
   "execution_count": 61,
   "metadata": {},
   "outputs": [
    {
     "data": {
      "application/javascript": [
       "const spec = {\"config\": {\"view\": {\"width\": 400, \"height\": 300}, \"mark\": {\"tooltip\": null}}, \"data\": {\"name\": \"data-bf926e92ecead2cd760004ba95fb799f\"}, \"mark\": \"bar\", \"encoding\": {\"color\": {\"type\": \"nominal\", \"field\": \"year\"}, \"column\": {\"type\": \"nominal\", \"field\": \"Census Region\"}, \"x\": {\"type\": \"ordinal\", \"field\": \"year\"}, \"y\": {\"type\": \"quantitative\", \"field\": \"Pill_per_pop\"}}, \"$schema\": \"https://vega.github.io/schema/vega-lite/v3.4.0.json\", \"datasets\": {\"data-bf926e92ecead2cd760004ba95fb799f\": [{\"year\": \"2006\", \"Census Region\": \"Midwest\", \"fips\": 28653.07992007992, \"pills\": 1684713.7905404593, \"population\": 65803.64335664336, \"Pill_per_pop\": 23.418354381996267}, {\"year\": \"2006\", \"Census Region\": \"Northeast\", \"fips\": 35988.99078341014, \"pills\": 5608462.730414746, \"population\": 251256.4930875576, \"Pill_per_pop\": 24.779348861480653}, {\"year\": \"2006\", \"Census Region\": \"South\", \"fips\": 31785.736383442265, \"pills\": 2540998.1715830793, \"population\": 79063.4996368918, \"Pill_per_pop\": 33.6517726329789}, {\"year\": \"2006\", \"Census Region\": \"West\", \"fips\": 25892.946472019466, \"pills\": 4801408.263990267, \"population\": 167044.89537712897, \"Pill_per_pop\": 29.769346021253956}, {\"year\": \"2007\", \"Census Region\": \"Midwest\", \"fips\": 28656.25748502994, \"pills\": 1929847.2195608784, \"population\": 65999.20658682635, \"Pill_per_pop\": 26.735166293846447}, {\"year\": \"2007\", \"Census Region\": \"Northeast\", \"fips\": 35988.99078341014, \"pills\": 6410162.33640553, \"population\": 251858.81105990784, \"Pill_per_pop\": 28.04462568542765}, {\"year\": \"2007\", \"Census Region\": \"South\", \"fips\": 31788.780043699928, \"pills\": 2872946.8568827384, \"population\": 80455.40203932993, \"Pill_per_pop\": 37.96250180530423}, {\"year\": \"2007\", \"Census Region\": \"West\", \"fips\": 26102.228501228503, \"pills\": 5360656.121621622, \"population\": 170710.87714987714, \"Pill_per_pop\": 32.67159916714382}, {\"year\": \"2008\", \"Census Region\": \"Midwest\", \"fips\": 28681.71928071928, \"pills\": 2119137.588411588, \"population\": 66293.98801198801, \"Pill_per_pop\": 29.372348256565356}, {\"year\": \"2008\", \"Census Region\": \"Northeast\", \"fips\": 35988.99078341014, \"pills\": 6955078.638248848, \"population\": 252884.4516129032, \"Pill_per_pop\": 30.39449810793723}, {\"year\": \"2008\", \"Census Region\": \"South\", \"fips\": 31740.924032140247, \"pills\": 3114764.8281409787, \"population\": 81768.37472607743, \"Pill_per_pop\": 41.45481410021836}, {\"year\": \"2008\", \"Census Region\": \"West\", \"fips\": 26262.486419753088, \"pills\": 5788670.559012346, \"population\": 173808.15061728394, \"Pill_per_pop\": 35.30082869486162}, {\"year\": \"2009\", \"Census Region\": \"Midwest\", \"fips\": 28691.436, \"pills\": 2286490.3105, \"population\": 66167.552, \"Pill_per_pop\": 31.944406282283598}, {\"year\": \"2009\", \"Census Region\": \"Northeast\", \"fips\": 35988.99078341014, \"pills\": 7381928.269214747, \"population\": 253024.41013824884, \"Pill_per_pop\": 32.59521642252776}, {\"year\": \"2009\", \"Census Region\": \"South\", \"fips\": 31784.011678832117, \"pills\": 3460743.331936715, \"population\": 80449.06788321168, \"Pill_per_pop\": 46.01362761831332}, {\"year\": \"2009\", \"Census Region\": \"West\", \"fips\": 26213.13300492611, \"pills\": 6156119.306034483, \"population\": 171576.8472906404, \"Pill_per_pop\": 38.48597661461025}, {\"year\": \"2010\", \"Census Region\": \"Midwest\", \"fips\": 28702.023023023023, \"pills\": 2483046.782782783, \"population\": 66405.72372372373, \"Pill_per_pop\": 33.926134987671674}, {\"year\": \"2010\", \"Census Region\": \"Northeast\", \"fips\": 35988.99078341014, \"pills\": 7741370.832082028, \"population\": 253037.87096774194, \"Pill_per_pop\": 33.99904933664198}, {\"year\": \"2010\", \"Census Region\": \"South\", \"fips\": 31795.021881838074, \"pills\": 3747221.6127479943, \"population\": 81577.43617797228, \"Pill_per_pop\": 49.00676687315678}, {\"year\": \"2010\", \"Census Region\": \"West\", \"fips\": 26146.65024630542, \"pills\": 6486280.01182266, \"population\": 173290.54433497536, \"Pill_per_pop\": 40.76641455490377}, {\"year\": \"2011\", \"Census Region\": \"Midwest\", \"fips\": 28691.69591226321, \"pills\": 2705841.1266201395, \"population\": 66387.22632103688, \"Pill_per_pop\": 37.50681397938483}, {\"year\": \"2011\", \"Census Region\": \"Northeast\", \"fips\": 35988.99078341014, \"pills\": 8273711.734165899, \"population\": 253963.23041474653, \"Pill_per_pop\": 36.20003401580318}, {\"year\": \"2011\", \"Census Region\": \"South\", \"fips\": 31786.522561863174, \"pills\": 3938843.2917438145, \"population\": 82422.78675400291, \"Pill_per_pop\": 52.97659276451626}, {\"year\": \"2011\", \"Census Region\": \"West\", \"fips\": 26239.89408866995, \"pills\": 6991174.068916257, \"population\": 175319.24384236452, \"Pill_per_pop\": 43.483048289032865}, {\"year\": \"2012\", \"Census Region\": \"Midwest\", \"fips\": 28683.65472636816, \"pills\": 2761684.7308457713, \"population\": 66460.58109452737, \"Pill_per_pop\": 38.82897837076494}, {\"year\": \"2012\", \"Census Region\": \"Northeast\", \"fips\": 35988.99078341014, \"pills\": 8134266.359447004, \"population\": 255064.2258064516, \"Pill_per_pop\": 36.18890423542165}, {\"year\": \"2012\", \"Census Region\": \"South\", \"fips\": 31821.64, \"pills\": 3818195.5603636364, \"population\": 83315.10981818182, \"Pill_per_pop\": 53.25350590766774}, {\"year\": \"2012\", \"Census Region\": \"West\", \"fips\": 26189.892156862745, \"pills\": 7004608.302696078, \"population\": 176397.0588235294, \"Pill_per_pop\": 43.87756466026433}]}};\n",
       "const opt = {\"renderer\": \"svg\"};\n",
       "const type = \"vega-lite\";\n",
       "const id = \"7f7b230f-e46d-4f20-b9b9-00a85783eba7\";\n",
       "\n",
       "const output_area = this;\n",
       "\n",
       "require([\"nbextensions/jupyter-vega/index\"], function(vega) {\n",
       "  const target = document.createElement(\"div\");\n",
       "  target.id = id;\n",
       "  target.className = \"vega-embed\";\n",
       "\n",
       "  const style = document.createElement(\"style\");\n",
       "  style.textContent = [\n",
       "    \".vega-embed .error p {\",\n",
       "    \"  color: firebrick;\",\n",
       "    \"  font-size: 14px;\",\n",
       "    \"}\",\n",
       "  ].join(\"\\\\n\");\n",
       "\n",
       "  // element is a jQuery wrapped DOM element inside the output area\n",
       "  // see http://ipython.readthedocs.io/en/stable/api/generated/\\\n",
       "  // IPython.display.html#IPython.display.Javascript.__init__\n",
       "  element[0].appendChild(target);\n",
       "  element[0].appendChild(style);\n",
       "\n",
       "  vega.render(\"#\" + id, spec, type, opt, output_area);\n",
       "}, function (err) {\n",
       "  if (err.requireType !== \"scripterror\") {\n",
       "    throw(err);\n",
       "  }\n",
       "});\n"
      ],
      "text/plain": [
       "<vega.vegalite.VegaLite at 0x21210a8d648>"
      ]
     },
     "metadata": {
      "jupyter-vega": "#7f7b230f-e46d-4f20-b9b9-00a85783eba7"
     },
     "output_type": "display_data"
    },
    {
     "data": {
      "text/plain": []
     },
     "execution_count": 61,
     "metadata": {},
     "output_type": "execute_result"
    },
    {
     "data": {
      "image/png": "[encoded data removed]"
     },
     "metadata": {
      "jupyter-vega": "#7f7b230f-e46d-4f20-b9b9-00a85783eba7"
     },
     "output_type": "display_data"
    }
   ],
   "source": [
    "alt.Chart(data1).mark_bar().encode(\n",
    "    x='year:O',\n",
    "    y='Pill_per_pop:Q',\n",
    "    color='year:N',\n",
    "    column='Census Region:N'\n",
    ")"
   ]
  },
  {
   "cell_type": "code",
   "execution_count": 70,
   "metadata": {},
   "outputs": [
    {
     "ename": "KeyError",
     "evalue": "'year'",
     "output_type": "error",
     "traceback": [
      "\u001b[1;31m---------------------------------------------------------------------------\u001b[0m",
      "\u001b[1;31mKeyError\u001b[0m                                  Traceback (most recent call last)",
      "\u001b[1;32m~\\Anaconda3\\envs\\dviz\\lib\\site-packages\\pandas\\core\\indexes\\base.py\u001b[0m in \u001b[0;36mget_loc\u001b[1;34m(self, key, method, tolerance)\u001b[0m\n\u001b[0;32m   2896\u001b[0m             \u001b[1;32mtry\u001b[0m\u001b[1;33m:\u001b[0m\u001b[1;33m\u001b[0m\u001b[1;33m\u001b[0m\u001b[0m\n\u001b[1;32m-> 2897\u001b[1;33m                 \u001b[1;32mreturn\u001b[0m \u001b[0mself\u001b[0m\u001b[1;33m.\u001b[0m\u001b[0m_engine\u001b[0m\u001b[1;33m.\u001b[0m\u001b[0mget_loc\u001b[0m\u001b[1;33m(\u001b[0m\u001b[0mkey\u001b[0m\u001b[1;33m)\u001b[0m\u001b[1;33m\u001b[0m\u001b[1;33m\u001b[0m\u001b[0m\n\u001b[0m\u001b[0;32m   2898\u001b[0m             \u001b[1;32mexcept\u001b[0m \u001b[0mKeyError\u001b[0m\u001b[1;33m:\u001b[0m\u001b[1;33m\u001b[0m\u001b[1;33m\u001b[0m\u001b[0m\n",
      "\u001b[1;32mpandas\\_libs\\index.pyx\u001b[0m in \u001b[0;36mpandas._libs.index.IndexEngine.get_loc\u001b[1;34m()\u001b[0m\n",
      "\u001b[1;32mpandas\\_libs\\index.pyx\u001b[0m in \u001b[0;36mpandas._libs.index.IndexEngine.get_loc\u001b[1;34m()\u001b[0m\n",
      "\u001b[1;32mpandas\\_libs\\hashtable_class_helper.pxi\u001b[0m in \u001b[0;36mpandas._libs.hashtable.PyObjectHashTable.get_item\u001b[1;34m()\u001b[0m\n",
      "\u001b[1;32mpandas\\_libs\\hashtable_class_helper.pxi\u001b[0m in \u001b[0;36mpandas._libs.hashtable.PyObjectHashTable.get_item\u001b[1;34m()\u001b[0m\n",
      "\u001b[1;31mKeyError\u001b[0m: 'year'",
      "\nDuring handling of the above exception, another exception occurred:\n",
      "\u001b[1;31mKeyError\u001b[0m                                  Traceback (most recent call last)",
      "\u001b[1;32m<ipython-input-70-d855d1cf6cb6>\u001b[0m in \u001b[0;36m<module>\u001b[1;34m\u001b[0m\n\u001b[0;32m      1\u001b[0m \u001b[0mdata2\u001b[0m \u001b[1;33m=\u001b[0m \u001b[0mfdf1\u001b[0m\u001b[1;33m.\u001b[0m\u001b[0mgroupby\u001b[0m\u001b[1;33m(\u001b[0m\u001b[1;33m[\u001b[0m\u001b[1;34m'year'\u001b[0m\u001b[1;33m,\u001b[0m\u001b[1;34m'Census Region'\u001b[0m\u001b[1;33m]\u001b[0m\u001b[1;33m)\u001b[0m\u001b[1;33m.\u001b[0m\u001b[0mmean\u001b[0m\u001b[1;33m(\u001b[0m\u001b[1;33m)\u001b[0m\u001b[1;33m\u001b[0m\u001b[1;33m\u001b[0m\u001b[0m\n\u001b[1;32m----> 2\u001b[1;33m \u001b[0mdata2\u001b[0m\u001b[1;33m[\u001b[0m\u001b[1;34m'year'\u001b[0m\u001b[1;33m]\u001b[0m \u001b[1;33m=\u001b[0m \u001b[0mdata2\u001b[0m\u001b[1;33m[\u001b[0m\u001b[1;34m'year'\u001b[0m\u001b[1;33m]\u001b[0m\u001b[1;33m.\u001b[0m\u001b[0mastype\u001b[0m\u001b[1;33m(\u001b[0m\u001b[0mstr\u001b[0m\u001b[1;33m)\u001b[0m\u001b[1;33m\u001b[0m\u001b[1;33m\u001b[0m\u001b[0m\n\u001b[0m\u001b[0;32m      3\u001b[0m \u001b[0mdata2\u001b[0m \u001b[1;33m=\u001b[0m \u001b[0mdata2\u001b[0m\u001b[1;33m.\u001b[0m\u001b[0mreset_index\u001b[0m\u001b[1;33m(\u001b[0m\u001b[1;33m)\u001b[0m\u001b[1;33m\u001b[0m\u001b[1;33m\u001b[0m\u001b[0m\n\u001b[0;32m      4\u001b[0m \u001b[1;33m\u001b[0m\u001b[0m\n\u001b[0;32m      5\u001b[0m alt.Chart(data2).mark_bar().encode(\n",
      "\u001b[1;32m~\\Anaconda3\\envs\\dviz\\lib\\site-packages\\pandas\\core\\frame.py\u001b[0m in \u001b[0;36m__getitem__\u001b[1;34m(self, key)\u001b[0m\n\u001b[0;32m   2978\u001b[0m             \u001b[1;32mif\u001b[0m \u001b[0mself\u001b[0m\u001b[1;33m.\u001b[0m\u001b[0mcolumns\u001b[0m\u001b[1;33m.\u001b[0m\u001b[0mnlevels\u001b[0m \u001b[1;33m>\u001b[0m \u001b[1;36m1\u001b[0m\u001b[1;33m:\u001b[0m\u001b[1;33m\u001b[0m\u001b[1;33m\u001b[0m\u001b[0m\n\u001b[0;32m   2979\u001b[0m                 \u001b[1;32mreturn\u001b[0m \u001b[0mself\u001b[0m\u001b[1;33m.\u001b[0m\u001b[0m_getitem_multilevel\u001b[0m\u001b[1;33m(\u001b[0m\u001b[0mkey\u001b[0m\u001b[1;33m)\u001b[0m\u001b[1;33m\u001b[0m\u001b[1;33m\u001b[0m\u001b[0m\n\u001b[1;32m-> 2980\u001b[1;33m             \u001b[0mindexer\u001b[0m \u001b[1;33m=\u001b[0m \u001b[0mself\u001b[0m\u001b[1;33m.\u001b[0m\u001b[0mcolumns\u001b[0m\u001b[1;33m.\u001b[0m\u001b[0mget_loc\u001b[0m\u001b[1;33m(\u001b[0m\u001b[0mkey\u001b[0m\u001b[1;33m)\u001b[0m\u001b[1;33m\u001b[0m\u001b[1;33m\u001b[0m\u001b[0m\n\u001b[0m\u001b[0;32m   2981\u001b[0m             \u001b[1;32mif\u001b[0m \u001b[0mis_integer\u001b[0m\u001b[1;33m(\u001b[0m\u001b[0mindexer\u001b[0m\u001b[1;33m)\u001b[0m\u001b[1;33m:\u001b[0m\u001b[1;33m\u001b[0m\u001b[1;33m\u001b[0m\u001b[0m\n\u001b[0;32m   2982\u001b[0m                 \u001b[0mindexer\u001b[0m \u001b[1;33m=\u001b[0m \u001b[1;33m[\u001b[0m\u001b[0mindexer\u001b[0m\u001b[1;33m]\u001b[0m\u001b[1;33m\u001b[0m\u001b[1;33m\u001b[0m\u001b[0m\n",
      "\u001b[1;32m~\\Anaconda3\\envs\\dviz\\lib\\site-packages\\pandas\\core\\indexes\\base.py\u001b[0m in \u001b[0;36mget_loc\u001b[1;34m(self, key, method, tolerance)\u001b[0m\n\u001b[0;32m   2897\u001b[0m                 \u001b[1;32mreturn\u001b[0m \u001b[0mself\u001b[0m\u001b[1;33m.\u001b[0m\u001b[0m_engine\u001b[0m\u001b[1;33m.\u001b[0m\u001b[0mget_loc\u001b[0m\u001b[1;33m(\u001b[0m\u001b[0mkey\u001b[0m\u001b[1;33m)\u001b[0m\u001b[1;33m\u001b[0m\u001b[1;33m\u001b[0m\u001b[0m\n\u001b[0;32m   2898\u001b[0m             \u001b[1;32mexcept\u001b[0m \u001b[0mKeyError\u001b[0m\u001b[1;33m:\u001b[0m\u001b[1;33m\u001b[0m\u001b[1;33m\u001b[0m\u001b[0m\n\u001b[1;32m-> 2899\u001b[1;33m                 \u001b[1;32mreturn\u001b[0m \u001b[0mself\u001b[0m\u001b[1;33m.\u001b[0m\u001b[0m_engine\u001b[0m\u001b[1;33m.\u001b[0m\u001b[0mget_loc\u001b[0m\u001b[1;33m(\u001b[0m\u001b[0mself\u001b[0m\u001b[1;33m.\u001b[0m\u001b[0m_maybe_cast_indexer\u001b[0m\u001b[1;33m(\u001b[0m\u001b[0mkey\u001b[0m\u001b[1;33m)\u001b[0m\u001b[1;33m)\u001b[0m\u001b[1;33m\u001b[0m\u001b[1;33m\u001b[0m\u001b[0m\n\u001b[0m\u001b[0;32m   2900\u001b[0m         \u001b[0mindexer\u001b[0m \u001b[1;33m=\u001b[0m \u001b[0mself\u001b[0m\u001b[1;33m.\u001b[0m\u001b[0mget_indexer\u001b[0m\u001b[1;33m(\u001b[0m\u001b[1;33m[\u001b[0m\u001b[0mkey\u001b[0m\u001b[1;33m]\u001b[0m\u001b[1;33m,\u001b[0m \u001b[0mmethod\u001b[0m\u001b[1;33m=\u001b[0m\u001b[0mmethod\u001b[0m\u001b[1;33m,\u001b[0m \u001b[0mtolerance\u001b[0m\u001b[1;33m=\u001b[0m\u001b[0mtolerance\u001b[0m\u001b[1;33m)\u001b[0m\u001b[1;33m\u001b[0m\u001b[1;33m\u001b[0m\u001b[0m\n\u001b[0;32m   2901\u001b[0m         \u001b[1;32mif\u001b[0m \u001b[0mindexer\u001b[0m\u001b[1;33m.\u001b[0m\u001b[0mndim\u001b[0m \u001b[1;33m>\u001b[0m \u001b[1;36m1\u001b[0m \u001b[1;32mor\u001b[0m \u001b[0mindexer\u001b[0m\u001b[1;33m.\u001b[0m\u001b[0msize\u001b[0m \u001b[1;33m>\u001b[0m \u001b[1;36m1\u001b[0m\u001b[1;33m:\u001b[0m\u001b[1;33m\u001b[0m\u001b[1;33m\u001b[0m\u001b[0m\n",
      "\u001b[1;32mpandas\\_libs\\index.pyx\u001b[0m in \u001b[0;36mpandas._libs.index.IndexEngine.get_loc\u001b[1;34m()\u001b[0m\n",
      "\u001b[1;32mpandas\\_libs\\index.pyx\u001b[0m in \u001b[0;36mpandas._libs.index.IndexEngine.get_loc\u001b[1;34m()\u001b[0m\n",
      "\u001b[1;32mpandas\\_libs\\hashtable_class_helper.pxi\u001b[0m in \u001b[0;36mpandas._libs.hashtable.PyObjectHashTable.get_item\u001b[1;34m()\u001b[0m\n",
      "\u001b[1;32mpandas\\_libs\\hashtable_class_helper.pxi\u001b[0m in \u001b[0;36mpandas._libs.hashtable.PyObjectHashTable.get_item\u001b[1;34m()\u001b[0m\n",
      "\u001b[1;31mKeyError\u001b[0m: 'year'"
     ]
    }
   ],
   "source": [
    "data2 = fdf1.groupby(['year','Census Region']).mean()\n",
    "data2['year'] = data2['year'].astype(str)\n",
    "data2 = data2.reset_index()\n",
    "\n",
    "alt.Chart(data2).mark_bar().encode(\n",
    "    x='year:O',\n",
    "    y='Pill_per_pop:Q',\n",
    "    color='year:N',\n",
    "    column='Census Division:N'\n",
    ")"
   ]
  },
  {
   "cell_type": "code",
   "execution_count": 73,
   "metadata": {},
   "outputs": [
    {
     "ename": "KeyError",
     "evalue": "'year'",
     "output_type": "error",
     "traceback": [
      "\u001b[1;31m---------------------------------------------------------------------------\u001b[0m",
      "\u001b[1;31mKeyError\u001b[0m                                  Traceback (most recent call last)",
      "\u001b[1;32m~\\Anaconda3\\envs\\dviz\\lib\\site-packages\\pandas\\core\\indexes\\base.py\u001b[0m in \u001b[0;36mget_loc\u001b[1;34m(self, key, method, tolerance)\u001b[0m\n\u001b[0;32m   2896\u001b[0m             \u001b[1;32mtry\u001b[0m\u001b[1;33m:\u001b[0m\u001b[1;33m\u001b[0m\u001b[1;33m\u001b[0m\u001b[0m\n\u001b[1;32m-> 2897\u001b[1;33m                 \u001b[1;32mreturn\u001b[0m \u001b[0mself\u001b[0m\u001b[1;33m.\u001b[0m\u001b[0m_engine\u001b[0m\u001b[1;33m.\u001b[0m\u001b[0mget_loc\u001b[0m\u001b[1;33m(\u001b[0m\u001b[0mkey\u001b[0m\u001b[1;33m)\u001b[0m\u001b[1;33m\u001b[0m\u001b[1;33m\u001b[0m\u001b[0m\n\u001b[0m\u001b[0;32m   2898\u001b[0m             \u001b[1;32mexcept\u001b[0m \u001b[0mKeyError\u001b[0m\u001b[1;33m:\u001b[0m\u001b[1;33m\u001b[0m\u001b[1;33m\u001b[0m\u001b[0m\n",
      "\u001b[1;32mpandas\\_libs\\index.pyx\u001b[0m in \u001b[0;36mpandas._libs.index.IndexEngine.get_loc\u001b[1;34m()\u001b[0m\n",
      "\u001b[1;32mpandas\\_libs\\index.pyx\u001b[0m in \u001b[0;36mpandas._libs.index.IndexEngine.get_loc\u001b[1;34m()\u001b[0m\n",
      "\u001b[1;32mpandas\\_libs\\hashtable_class_helper.pxi\u001b[0m in \u001b[0;36mpandas._libs.hashtable.PyObjectHashTable.get_item\u001b[1;34m()\u001b[0m\n",
      "\u001b[1;32mpandas\\_libs\\hashtable_class_helper.pxi\u001b[0m in \u001b[0;36mpandas._libs.hashtable.PyObjectHashTable.get_item\u001b[1;34m()\u001b[0m\n",
      "\u001b[1;31mKeyError\u001b[0m: 'year'",
      "\nDuring handling of the above exception, another exception occurred:\n",
      "\u001b[1;31mKeyError\u001b[0m                                  Traceback (most recent call last)",
      "\u001b[1;32m<ipython-input-73-bca0809b0964>\u001b[0m in \u001b[0;36m<module>\u001b[1;34m\u001b[0m\n\u001b[0;32m      1\u001b[0m \u001b[0mdata2\u001b[0m \u001b[1;33m=\u001b[0m \u001b[0mfdf1\u001b[0m\u001b[1;33m.\u001b[0m\u001b[0mgroupby\u001b[0m\u001b[1;33m(\u001b[0m\u001b[1;33m[\u001b[0m\u001b[1;34m'year'\u001b[0m\u001b[1;33m,\u001b[0m\u001b[1;34m'Census Region'\u001b[0m\u001b[1;33m]\u001b[0m\u001b[1;33m)\u001b[0m\u001b[1;33m.\u001b[0m\u001b[0mmean\u001b[0m\u001b[1;33m(\u001b[0m\u001b[1;33m)\u001b[0m\u001b[1;33m\u001b[0m\u001b[1;33m\u001b[0m\u001b[0m\n\u001b[1;32m----> 2\u001b[1;33m \u001b[0mdata2\u001b[0m\u001b[1;33m[\u001b[0m\u001b[1;34m'year'\u001b[0m\u001b[1;33m]\u001b[0m \u001b[1;33m=\u001b[0m \u001b[0mdata2\u001b[0m\u001b[1;33m[\u001b[0m\u001b[1;34m'year'\u001b[0m\u001b[1;33m]\u001b[0m\u001b[1;33m.\u001b[0m\u001b[0mastype\u001b[0m\u001b[1;33m(\u001b[0m\u001b[0mstr\u001b[0m\u001b[1;33m)\u001b[0m\u001b[1;33m\u001b[0m\u001b[1;33m\u001b[0m\u001b[0m\n\u001b[0m\u001b[0;32m      3\u001b[0m \u001b[0mdata2\u001b[0m\u001b[1;33m\u001b[0m\u001b[1;33m\u001b[0m\u001b[0m\n",
      "\u001b[1;32m~\\Anaconda3\\envs\\dviz\\lib\\site-packages\\pandas\\core\\frame.py\u001b[0m in \u001b[0;36m__getitem__\u001b[1;34m(self, key)\u001b[0m\n\u001b[0;32m   2978\u001b[0m             \u001b[1;32mif\u001b[0m \u001b[0mself\u001b[0m\u001b[1;33m.\u001b[0m\u001b[0mcolumns\u001b[0m\u001b[1;33m.\u001b[0m\u001b[0mnlevels\u001b[0m \u001b[1;33m>\u001b[0m \u001b[1;36m1\u001b[0m\u001b[1;33m:\u001b[0m\u001b[1;33m\u001b[0m\u001b[1;33m\u001b[0m\u001b[0m\n\u001b[0;32m   2979\u001b[0m                 \u001b[1;32mreturn\u001b[0m \u001b[0mself\u001b[0m\u001b[1;33m.\u001b[0m\u001b[0m_getitem_multilevel\u001b[0m\u001b[1;33m(\u001b[0m\u001b[0mkey\u001b[0m\u001b[1;33m)\u001b[0m\u001b[1;33m\u001b[0m\u001b[1;33m\u001b[0m\u001b[0m\n\u001b[1;32m-> 2980\u001b[1;33m             \u001b[0mindexer\u001b[0m \u001b[1;33m=\u001b[0m \u001b[0mself\u001b[0m\u001b[1;33m.\u001b[0m\u001b[0mcolumns\u001b[0m\u001b[1;33m.\u001b[0m\u001b[0mget_loc\u001b[0m\u001b[1;33m(\u001b[0m\u001b[0mkey\u001b[0m\u001b[1;33m)\u001b[0m\u001b[1;33m\u001b[0m\u001b[1;33m\u001b[0m\u001b[0m\n\u001b[0m\u001b[0;32m   2981\u001b[0m             \u001b[1;32mif\u001b[0m \u001b[0mis_integer\u001b[0m\u001b[1;33m(\u001b[0m\u001b[0mindexer\u001b[0m\u001b[1;33m)\u001b[0m\u001b[1;33m:\u001b[0m\u001b[1;33m\u001b[0m\u001b[1;33m\u001b[0m\u001b[0m\n\u001b[0;32m   2982\u001b[0m                 \u001b[0mindexer\u001b[0m \u001b[1;33m=\u001b[0m \u001b[1;33m[\u001b[0m\u001b[0mindexer\u001b[0m\u001b[1;33m]\u001b[0m\u001b[1;33m\u001b[0m\u001b[1;33m\u001b[0m\u001b[0m\n",
      "\u001b[1;32m~\\Anaconda3\\envs\\dviz\\lib\\site-packages\\pandas\\core\\indexes\\base.py\u001b[0m in \u001b[0;36mget_loc\u001b[1;34m(self, key, method, tolerance)\u001b[0m\n\u001b[0;32m   2897\u001b[0m                 \u001b[1;32mreturn\u001b[0m \u001b[0mself\u001b[0m\u001b[1;33m.\u001b[0m\u001b[0m_engine\u001b[0m\u001b[1;33m.\u001b[0m\u001b[0mget_loc\u001b[0m\u001b[1;33m(\u001b[0m\u001b[0mkey\u001b[0m\u001b[1;33m)\u001b[0m\u001b[1;33m\u001b[0m\u001b[1;33m\u001b[0m\u001b[0m\n\u001b[0;32m   2898\u001b[0m             \u001b[1;32mexcept\u001b[0m \u001b[0mKeyError\u001b[0m\u001b[1;33m:\u001b[0m\u001b[1;33m\u001b[0m\u001b[1;33m\u001b[0m\u001b[0m\n\u001b[1;32m-> 2899\u001b[1;33m                 \u001b[1;32mreturn\u001b[0m \u001b[0mself\u001b[0m\u001b[1;33m.\u001b[0m\u001b[0m_engine\u001b[0m\u001b[1;33m.\u001b[0m\u001b[0mget_loc\u001b[0m\u001b[1;33m(\u001b[0m\u001b[0mself\u001b[0m\u001b[1;33m.\u001b[0m\u001b[0m_maybe_cast_indexer\u001b[0m\u001b[1;33m(\u001b[0m\u001b[0mkey\u001b[0m\u001b[1;33m)\u001b[0m\u001b[1;33m)\u001b[0m\u001b[1;33m\u001b[0m\u001b[1;33m\u001b[0m\u001b[0m\n\u001b[0m\u001b[0;32m   2900\u001b[0m         \u001b[0mindexer\u001b[0m \u001b[1;33m=\u001b[0m \u001b[0mself\u001b[0m\u001b[1;33m.\u001b[0m\u001b[0mget_indexer\u001b[0m\u001b[1;33m(\u001b[0m\u001b[1;33m[\u001b[0m\u001b[0mkey\u001b[0m\u001b[1;33m]\u001b[0m\u001b[1;33m,\u001b[0m \u001b[0mmethod\u001b[0m\u001b[1;33m=\u001b[0m\u001b[0mmethod\u001b[0m\u001b[1;33m,\u001b[0m \u001b[0mtolerance\u001b[0m\u001b[1;33m=\u001b[0m\u001b[0mtolerance\u001b[0m\u001b[1;33m)\u001b[0m\u001b[1;33m\u001b[0m\u001b[1;33m\u001b[0m\u001b[0m\n\u001b[0;32m   2901\u001b[0m         \u001b[1;32mif\u001b[0m \u001b[0mindexer\u001b[0m\u001b[1;33m.\u001b[0m\u001b[0mndim\u001b[0m \u001b[1;33m>\u001b[0m \u001b[1;36m1\u001b[0m \u001b[1;32mor\u001b[0m \u001b[0mindexer\u001b[0m\u001b[1;33m.\u001b[0m\u001b[0msize\u001b[0m \u001b[1;33m>\u001b[0m \u001b[1;36m1\u001b[0m\u001b[1;33m:\u001b[0m\u001b[1;33m\u001b[0m\u001b[1;33m\u001b[0m\u001b[0m\n",
      "\u001b[1;32mpandas\\_libs\\index.pyx\u001b[0m in \u001b[0;36mpandas._libs.index.IndexEngine.get_loc\u001b[1;34m()\u001b[0m\n",
      "\u001b[1;32mpandas\\_libs\\index.pyx\u001b[0m in \u001b[0;36mpandas._libs.index.IndexEngine.get_loc\u001b[1;34m()\u001b[0m\n",
      "\u001b[1;32mpandas\\_libs\\hashtable_class_helper.pxi\u001b[0m in \u001b[0;36mpandas._libs.hashtable.PyObjectHashTable.get_item\u001b[1;34m()\u001b[0m\n",
      "\u001b[1;32mpandas\\_libs\\hashtable_class_helper.pxi\u001b[0m in \u001b[0;36mpandas._libs.hashtable.PyObjectHashTable.get_item\u001b[1;34m()\u001b[0m\n",
      "\u001b[1;31mKeyError\u001b[0m: 'year'"
     ]
    }
   ],
   "source": [
    "data2 = fdf1.groupby(['year','Census Region']).mean()\n",
    "data2 = data2.reset_index()\n",
    "data2['year'] = data2['year'].astype(str)"
   ]
  },
  {
   "cell_type": "code",
   "execution_count": null,
   "metadata": {},
   "outputs": [],
   "source": []
  }
 ],
 "metadata": {
  "kernelspec": {
   "display_name": "Python 3",
   "language": "python",
   "name": "python3"
  },
  "language_info": {
   "codemirror_mode": {
    "name": "ipython",
    "version": 3
   },
   "file_extension": ".py",
   "mimetype": "text/x-python",
   "name": "python",
   "nbconvert_exporter": "python",
   "pygments_lexer": "ipython3",
   "version": "3.7.4"
  }
 },
 "nbformat": 4,
 "nbformat_minor": 2
}
